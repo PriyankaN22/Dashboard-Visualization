{
 "cells": [
  {
   "cell_type": "markdown",
   "metadata": {},
   "source": [
    "<center><font size =\"6\" color= \"blue\">Visualization on SCU MSIS</font></center>"
   ]
  },
  {
   "cell_type": "markdown",
   "metadata": {},
   "source": [
    "Claim: Santa Clara University's MSIS course is the best one in Bay area!\n",
    "\n",
    "Qualifier: Universities in Bay Area\n",
    "\n",
    "Since the reputation and statistics of each university gives us an idea about individual department in that university, we will select the universities in the Bay area to compare with Santa Clara university. This way we can prove our claim that since Santa Clara university is a good university, their MSIS course will definitely be a good one.\n",
    "\n",
    "We will explore each data source and go on adding warrants for each data source"
   ]
  },
  {
   "cell_type": "code",
   "execution_count": 3,
   "metadata": {
    "collapsed": true
   },
   "outputs": [],
   "source": [
    "from bs4 import BeautifulSoup\n",
    "import pandas as pd\n",
    "import numpy as np\n",
    "pd.set_option('max_columns', 120)\n",
    "pd.set_option('max_colwidth', 5000)\n",
    "pd.set_option('max_rows', 300)\n",
    "import pandas as pd\n",
    "import numpy as nm\n",
    "import matplotlib as mp\n",
    "%matplotlib inline\n",
    "import matplotlib.pyplot as plt\n",
    "from ipywidgets import interact\n",
    "import seaborn as sns\n",
    "import pandas_datareader as pdr\n",
    "from pandas_datareader.data import Options\n",
    "import datetime as dt\n",
    "import requests\n",
    "import json\n",
    "import urllib"
   ]
  },
  {
   "cell_type": "markdown",
   "metadata": {},
   "source": [
    "<center><font size =\"5\" color= \"blue\">Source 1-SCU Alumni-Pay Scale</font></center>\n",
    "\n",
    "Data: Payscales of Santa Clara University(MSIS) Alumni - https://www.payscale.com/research/US/Degree=Master_of_Information_Science_(MIS)/Salary\n",
    "\n",
    "Qualifier: Role wise salary for MSIS students and average pay for that role in Bay area\n",
    "\n",
    "Warrant: Since the SCU MSIS students receive salaries which are more than average salary for a particular role in bay area, \n",
    "         Santa Clara University's MSIS is the best course in Bay Area\n",
    "   \n",
    "Backing: https://www.collegefactual.com/majors/business-management-marketing-sales/mis-management-information-systems/rankings/highest-paid-grads/\n",
    "\n",
    "Reservation: These are not the only roles MSIS students work in. There are other roles which we need to consider. \n",
    "\n"
   ]
  },
  {
   "cell_type": "code",
   "execution_count": 256,
   "metadata": {},
   "outputs": [],
   "source": [
    "response3 = requests.get(\"https://www.payscale.com/research/US/Degree=Master_of_Information_Science_(MIS)/Salary\")\n",
    "html3 = response3.content\n",
    "soup = BeautifulSoup(html3, 'html.parser')\n",
    "#soup.prettify(formatter=lambda s: s.replace(u'\\xa0', ' '))\n",
    "#print (soup.prettify())"
   ]
  },
  {
   "cell_type": "code",
   "execution_count": 152,
   "metadata": {
    "collapsed": true
   },
   "outputs": [],
   "source": [
    "pay = soup.find_all(\"div\", {\"class\":\"bar-chart-bootstrap\"})"
   ]
  },
  {
   "cell_type": "code",
   "execution_count": 154,
   "metadata": {},
   "outputs": [
    {
     "name": "stdout",
     "output_type": "stream",
     "text": [
      "JobAverageMinMaxSoftware Engineer111 profiles$86,916$65K$122KData Analyst83 profiles$63,839$46K$82KBusiness Analyst, IT69 profiles$67,970$51K$86KGet a personalized salary report!Location:Years in Field/Career:Years in Field/Career:United States (change)Information Technology (IT) Manager67 profiles$100,541$65K$131KProject Manager, Information Technology (IT)54 profiles$90,546$64K$119KSoftware Developer47 profiles$72,474$58K$104KInformation Technology (IT) Director46 profiles$118,960$73K$171KSee all employers for Master of Information Science (MIS) »See all employers for Master of Information Science (MIS) »Currency: USDUpdated: 11 Oct 2017Individuals Reporting: 2,485View Table\n"
     ]
    }
   ],
   "source": [
    "for i in pay:\n",
    "    print(i.text)"
   ]
  },
  {
   "cell_type": "code",
   "execution_count": 156,
   "metadata": {
    "collapsed": true
   },
   "outputs": [],
   "source": [
    "pay1=[]\n",
    "for item in pay:\n",
    "    pay1.append(item.text)"
   ]
  },
  {
   "cell_type": "markdown",
   "metadata": {},
   "source": [
    "<img src = \"payscale1.png\">"
   ]
  },
  {
   "cell_type": "markdown",
   "metadata": {},
   "source": [
    "But the payscale cannot be the only criteria. We have to explore other parameters and show that SCU still stands out in terms of those criteria"
   ]
  },
  {
   "cell_type": "markdown",
   "metadata": {},
   "source": [
    "<center><font size =\"5\" color= \"blue\">Source 2-Acceptance Rates of all the universities</font></center>\n",
    "\n",
    "Data: http://www.acceptancerate.com/california\n",
    "\n",
    "Qualifier: Acceptance rates of the universities in Bay Area\n",
    "\n",
    "Warrant: Low acceptance rate shows that colleges are seeking for high-performing candidates and by doing they try to maintain a quality and standard of education. Santa Clara University's low acceptance rate shows that they provide a good quality education.\n",
    "\n",
    "Backing: http://oedb.org/rankings/acceptance-rate/\n",
    "\n",
    "Reservation: Not all the universities considered here offer same programs. Some universities offer more number of programs while others offer only few programs. So, we cannot measure the quality of education based on overall acceptance rate.\n"
   ]
  },
  {
   "cell_type": "code",
   "execution_count": 257,
   "metadata": {},
   "outputs": [],
   "source": [
    "response3 = requests.get(\"http://www.acceptancerate.com/california\")\n",
    "html3 = response3.content\n",
    "soup = BeautifulSoup(html3, 'html.parser')\n",
    "#soup.prettify(formatter=lambda s: s.replace(u'\\xa0', ' '))\n",
    "#print (soup.prettify())"
   ]
  },
  {
   "cell_type": "code",
   "execution_count": 206,
   "metadata": {
    "collapsed": true
   },
   "outputs": [],
   "source": [
    "acc_rate= soup.find_all(\"table\", \"table table-hover table-condensed listing_table\")"
   ]
  },
  {
   "cell_type": "code",
   "execution_count": 210,
   "metadata": {
    "scrolled": true
   },
   "outputs": [
    {
     "name": "stdout",
     "output_type": "stream",
     "text": [
      "('Stanford UniversityAddress Unknown, Stanford, CA 94305', '38,828', '2,208', '5.7%')\n",
      "('California Institute of Technology (Caltech)1200 E California Blvd, Pasadena, CA 91125', '5,535', '584', '10.6%')\n",
      "('Claremont McKenna College500 E 9th St, Claremont, CA 91711-6400', '5,518', '647', '11.7%')\n",
      "('Pomona College550 N College Ave, Claremont, CA 91711-6319', '7,153', '996', '13.9%')\n",
      "('Pitzer College1050 North Mills Avenue, Claremont, CA 91711-6101', '4,115', '597', '14.5%')\n",
      "('University of California-Berkeley (UC Berkeley)200 California Hall, Berkeley, CA 94720', '61,717', '11,108', '18.0%')\n",
      "('Harvey Mudd College (HMC)301 Platt Blvd., Claremont, CA 91711', '3,539', '643', '18.2%')\n",
      "('University of Southern California (USC)University Park, Los Angeles, CA 90089', '47,358', '9,395', '19.8%')\n",
      "('University of California-Los Angeles (UCLA)405 Hilgard Ave, Los Angeles, CA 90095-1405', '72,676', '15,981', '22.0%')\n",
      "('California Institute of the Arts (CalArts)24700 W McBean Pky, Valencia, CA 91355-2397', '1,230', '368', '29.9%')\n",
      "('California State University-Long Beach (CSULB)1250 Bellflower Blvd, Long Beach, CA 90840-0115', '55,019', '16,956', '30.8%')\n",
      "('San Diego State University (SDSU)5500 Campanile Dr, San Diego, CA 92182', '51,163', '15,970', '31.2%')\n",
      "('California Polytechnic State University-San Luis Obispo (Cal Poly)1 Grand Ave., San Luis Obispo, CA 93407', '36,941', '11,537', '31.2%')\n",
      "('Scripps College1030 North Columbia Avenue, Claremont, CA 91711-3905', '2,378', '849', '35.7%')\n",
      "('Menlo College1000 El Camino Real, Atherton, CA 94027-4301', '4,100', '1,519', '37.0%')\n",
      "('University of California-San Diego (UCSD)9500 Gilman Dr, La Jolla, CA 92093', '60,832', '22,812', '37.5%')\n",
      "('Pepperdine University24255 Pacific Coast Hwy, Malibu, CA 90263', '9,721', '3,630', '37.3%')\n",
      "('University of La Verne1950 Third St, La Verne, CA 91750-4401', '6,989', '2,722', '38.9%')\n",
      "('San Francisco Conservatory of Music50 Oak Street, San Francisco, CA 94102-6011', '296', '118', '39.9%')\n",
      "('University of California-Irvine (UCI)501 Aldrich Hall, Irvine, CA 92697', '56,515', '23,956', '42.4%')\n",
      "('Occidental College (OXY)1600 Campus Rd, Los Angeles, CA 90041-3392', '6,072', '2,574', '42.4%')\n",
      "('Laguna College of Art and Design2222 Laguna Canyon Rd, Laguna Beach, CA 92651', '490', '212', '43.3%')\n",
      "('Soka University of America1 University Drive, Aliso Viejo, CA 92656-4105', '422', '183', '43.4%')\n",
      "('California State University-Monterey Bay (CSUMB)100 Campus Center, Seaside, CA 93955-8001', '12,562', '5,577', '44.4%')\n",
      "('University of California-Santa Barbara (UCSB)5221 Cheadle Hall, Santa Barbara, CA 93106', '55,258', '24,556', '44.4%')\n",
      "('Chapman UniversityOne University Dr., Orange, CA 92866', '11,750', '5,253', '44.7%')\n",
      "('University of California-Davis (UC Davis)One Shields Avenue, Davis, CA 95616-8678', '49,820', '22,526', '45.2%')\n",
      "('California State University-Fullerton (CSUF)800 N State College Blvd, Fullerton, CA 92831-3599', '38,909', '17,817', '45.8%')\n",
      "('California State University-Northridge (CSUN)18111 Nordhoff St, Northridge, CA 91330', '29,339', '13,566', '46.2%')\n",
      "('Otis College of Art and Design (Otis Art Institute)9045 Lincoln Blvd, Los Angeles, CA 90045-3505', '1,584', '733', '46.3%')\n",
      "('La Sierra University4500 Riverwalk Parkway, Riverside, CA 92515-8247', '3,479', '1,627', '46.8%')\n",
      "('Hope International University (Hope)2500 E Nutwood Ave, Fullerton, CA 92831-3199', '408', '191', '46.8%')\n",
      "('California Lutheran University (CLU)60 W Olsen Rd, Thousand Oaks, CA 91360-2787', '6,920', '3,323', '48.0%')\n",
      "('University of San Diego (USD)5998 Alcala Park, San Diego, CA 92110-2492', '14,693', '7,178', '48.9%')\n",
      "('San Diego Christian College2100 Greenfield Dr, El Cajon, CA 92019-1157', '561', '276', '49.2%')\n",
      "('Pacific Union College (PUC)One Angwin Ave, Angwin, CA 94508-9707', '2,103', '1,063', '50.5%')\n",
      "('Santa Clara University (SCU)500 El Camino Real, Santa Clara, CA 95053', '14,339', '7,344', '51.2%')\n",
      "('California State Polytechnic University-Pomona (Cal Poly Pomona)3801 West Temple Avenue, Pomona, CA 91768', '28,143', '14,686', '52.2%')\n",
      "('Columbia College Hollywood18618 Oxnard St, Tarzana, CA 91356-1411', '250', '137', '54.8%')\n",
      "('Loyola Marymount University (LMU)One Lmu Drive, Los Angeles, CA 90045-2659', '11,472', '6,209', '54.1%')\n",
      "('Simpson University (Simpson College)2211 College View Drive, Redding, CA 96003-8606', '573', '318', '55.5%')\n",
      "('Woodbury University7500 Glenoaks Blvd, Burbank, CA 91510-7846', '879', '490', '55.7%')\n",
      "('Holy Names University3500 Mountain Blvd, Oakland, CA 94619-1699', '561', '318', '56.7%')\n",
      "('California State University-Dominguez Hills (CSUDH)1000 E Victoria St, Carson, CA 90747-0005', '14,742', '8,472', '57.5%')\n",
      "('California State University-Fresno (Fresno State)5241 N Maple Ave, Fresno, CA 93740', '16,242', '9,444', '58.1%')\n",
      "('California State University-San Bernardino (CSUSB)5500 University Pky, San Bernardino, CA 92407-2397', '12,239', '7,137', '58.3%')\n",
      "('University of California-Santa Cruz (UC Santa Cruz)1156 High St, Santa Cruz, CA 95064-1011', '33,137', '19,851', '59.9%')\n",
      "('San Diego State University-Imperial Valley Campus720 Heber Ave, Calexico, CA 92231', '201', '122', '60.7%')\n",
      "('University of San Francisco (USF)2130 Fulton St, San Francisco, CA 94117-1080', '14,808', '9,076', '61.3%')\n",
      "(\"The Master's College and Seminary21726 Placerita Canyon Road, Santa Clarita, CA 91321-1200\", '849', '521', '61.4%')\n",
      "('University of California-Riverside (UCR)900 University Ave, Riverside, CA 92521', '30,391', '18,843', '62.0%')\n",
      "('California State University-San Marcos (CSUSM)333 S Twin Oaks Valley Rd, San Marcos, CA 92096-0001', '10,208', '6,381', '62.5%')\n",
      "('Whittier College13406 E Philadelphia Street, Whittier, CA 90601', '4,380', '2,771', '63.3%')\n",
      "('San Jose State University (SJSU)1 Washington Sq, San Jose, CA 95192-0001', '25,155', '15,967', '63.5%')\n",
      "('San Francisco State University (SFSU)1600 Holloway Ave, San Francisco, CA 94132', '31,462', '20,070', '63.8%')\n",
      "('California State University-Channel Islands (CI)One University Dr, Camarillo, CA 93012', '6,960', '4,484', '64.4%')\n",
      "('California State University-Bakersfield (CSUB)9001 Stockdale Hwy, Bakersfield, CA 93311-1099', '6,630', '4,393', '66.3%')\n",
      "('Point Loma Nazarene University (PLNU)3900 Lomaland Dr, San Diego, CA 92106-2899', '3,138', '2,088', '66.5%')\n",
      "('University of Redlands1200 E. Colton Ave, Redlands, CA 92373-0999', '4,668', '3,137', '67.2%')\n",
      "('California State University-Los Angeles (Cal State LA)5151 State University Dr, Los Angeles, CA 90032', '27,321', '18,448', '67.5%')\n",
      "('Mills College5000 MacArthur Blvd, Oakland, CA 94613', '1,827', '1,242', '68.0%')\n",
      "('California State University-East Bay (CSUEB)25800 Carlos Bee Blvd, Hayward, CA 94542', '12,741', '8,756', '68.7%')\n",
      "('William Jessup University (San Jose Christian College)333 Sunset Blvd., Rocklin, CA 95765-3707', '482', '334', '69.3%')\n",
      "('Saint Marys College of California (SMC)1928 Saint Marys Road, Moraga, CA 94575', '4,864', '3,379', '69.5%')\n",
      "('California State University-Sacramento (Sacramento State)6000 J St, Sacramento, CA 95819-2694', '19,702', '13,728', '69.7%')\n",
      "('Vanguard University of Southern California55 Fair Dr, Costa Mesa, CA 92626', '1,495', '1,043', '69.8%')\n",
      "('Westmont College955 La Paz Rd, Santa Barbara, CA 93108-1089', '2,145', '1,505', '70.2%')\n",
      "('California State University-ChicoFirst and Normal Sts, Chico, CA 95929-0150', '17,215', '12,327', '71.6%')\n",
      "('California State University-Stanislaus (CSU Stanislaus)One University Circle, Turlock, CA 95382-0299', '5,763', '4,158', '72.1%')\n",
      "('University of the Pacific (UOP)3601 Pacific Ave, Stockton, CA 95211-0197', '14,222', '10,332', '72.6%')\n",
      "('Biola University13800 Biola Ave, La Mirada, CA 90639-0001', '4,816', '3,509', '72.9%')\n",
      "(\"Mount St. Mary's College12001 Chalon Rd, Los Angeles, CA 90049-1599\", '2,316', '1,716', '74.1%')\n",
      "('California Maritime Academy (CMA)200 Maritime Academy Dr, Vallejo, CA 94590', '893', '668', '74.8%')\n",
      "('University of California-Merced (UCM)5200 North Lake Road, Merced, CA 95343-5603', '14,056', '10,613', '75.5%')\n",
      "('Dominican University of California (DUofC)50 Acacia Ave, San Rafael, CA 94901-2298', '2,322', '1,800', '77.5%')\n",
      "('Fresno Pacific University1717 S Chestnut Ave, Fresno, CA 93702-4709', '705', '553', '78.4%')\n",
      "('California Baptist University (CBU)8432 Magnolia Ave, Riverside, CA 92504-3297', '3,853', '3,036', '78.8%')\n",
      "('Azusa Pacific University (APU)901 E Alosta, Azusa, CA 91702-7000', '5,329', '4,255', '79.8%')\n",
      "('Humboldt State University (HSU)1 Harpst Street, Arcata, CA 95521-8299', '9,978', '8,000', '80.2%')\n",
      "('California College of the Arts (CCA)1111 Eighth Street, San Francisco, CA 94107-2247', '1,405', '1,146', '81.6%')\n",
      "('Art Center College of Design1700 Lida St, Pasadena, CA 91103', '480', '392', '81.7%')\n",
      "('Sonoma State University (SSU)1801 E Cotati Ave, Rohnert Park, CA 94928-3609', '13,142', '10,758', '81.9%')\n",
      "('San Francisco Art Institute800 Chestnut St, San Francisco, CA 94133-2299', '416', '344', '82.7%')\n",
      "('Notre Dame de Namur University (NDNU)1500 Ralston Ave, Belmont, CA 94002-1908', '1,922', '1,676', '87.2%')\n",
      "('Concordia University-Irvine (Concordia University Irvine)1530 Concordia West, Irvine, CA 92612-3203', '2,055', '1,874', '91.2%')\n"
     ]
    }
   ],
   "source": [
    "acc=[]\n",
    "\n",
    "for mytable in acc_rate:\n",
    "    acc_body = mytable.find('tbody')\n",
    "    try:\n",
    "        acc_rows = acc_body.find_all('tr')\n",
    "        for tr in acc_rows:\n",
    "            acc_cols = tr.find_all('td')\n",
    "            name = acc_cols[1].text\n",
    "            applicants = acc_cols[2].string\n",
    "            admitted = acc_cols[3].string\n",
    "            accept_rate = acc_cols[4].string\n",
    "            record = (name, applicants, admitted, accept_rate)\n",
    "            print(record)\n",
    "    except:\n",
    "        print(\"no tbody\")"
   ]
  },
  {
   "cell_type": "code",
   "execution_count": 211,
   "metadata": {
    "collapsed": true
   },
   "outputs": [],
   "source": [
    "\n",
    "import csv\n",
    "\n",
    "#with open ('SCUMSIS_Class_Profile.csv','wb') as file:\n",
    "#   writer=csv.writer(file)\n",
    "#   for row in demog:\n",
    "#      writer.writerow(row)\n",
    "\n",
    "f= open('acceptance.csv', 'a')\n",
    "csv_writer = csv.writer(f)\n",
    "for i in record:\n",
    "    csv_writer.writerow(i)\n",
    "f.close()"
   ]
  },
  {
   "cell_type": "markdown",
   "metadata": {},
   "source": [
    "<img src = \"accpt_rate.png\">"
   ]
  },
  {
   "cell_type": "markdown",
   "metadata": {},
   "source": [
    "<center><font size =\"5\" color= \"blue\">Source 3-Rankings</font></center>\n",
    "\n",
    "Data: Rankings of universities providing MIS courses http://higheredublog.com/top-universities-for-ms-in-mis-in-usa/\n",
    "\n",
    "Qualifier: Ranking of universities providing MIS courses across the bay area\n",
    "\n",
    "Warrant: As per the survey, good ranking indicates that the university has produced impressive number of leaders and entrepreneurs. Santa Clara university excels in terms of ranking, hence, students will have an excellent future with this university which makes it the best university in the Bay area.\n",
    "\n",
    "Backing: Forbes just announced its rankings, which favor a return on investment - https://patch.com/california/redwoodcity-woodside/list-top-colleges-california-according-latest-forbes-ranking"
   ]
  },
  {
   "cell_type": "code",
   "execution_count": 252,
   "metadata": {
    "collapsed": true
   },
   "outputs": [],
   "source": [
    "url = 'http://higheredublog.com/top-universities-for-ms-in-mis-in-usa/'\n",
    "data = pd.read_html(url, header = 0)\n",
    "\n",
    "data1 = data[0]\n",
    "data1.head()\n",
    "\n",
    "data1.columns = ['RANKING', 'UNIVERSITY', 'PROGRAM']\n",
    "\n",
    "df = pd.DataFrame(data1)\n",
    "\n",
    "df.to_csv('univ_ranking.csv', index=False, encoding='utf-8')"
   ]
  },
  {
   "cell_type": "markdown",
   "metadata": {},
   "source": [
    "<img src = \"ranking.png\">"
   ]
  },
  {
   "cell_type": "markdown",
   "metadata": {},
   "source": [
    "<center><font size =\"5\" color= \"blue\">Source 4-Career Insights </font></center>\n",
    "\n",
    "Data: SCU MSIS Alumni Career insights https://www.linkedin.com/school/10458916/alumni/\n",
    "\n",
    "Warrant: The data shows that SCU MSIS Alumni work for major tech giants in Silicon Valley.This proves their academic excellence.\n",
    "         Hence, SCU's MSIS is the best one amongst all the courses offered across Bay area.\n",
    "\n",
    "Backing: https://www.linkedin.com/school/10458916/alumni/\n"
   ]
  },
  {
   "cell_type": "markdown",
   "metadata": {},
   "source": [
    "<img src = \"company.png\">"
   ]
  },
  {
   "cell_type": "markdown",
   "metadata": {},
   "source": [
    "<center><font size =\"5\" color= \"blue\">Visualization<font></center>"
   ]
  },
  {
   "cell_type": "markdown",
   "metadata": {},
   "source": [
    "https://public.tableau.com/profile/priyanka.n4310#!/vizhome/SCUMSIS_Dashboard/Dashboard1?publish=yes"
   ]
  }
 ],
 "metadata": {
  "kernelspec": {
   "display_name": "Python 3",
   "language": "python",
   "name": "python3"
  },
  "language_info": {
   "codemirror_mode": {
    "name": "ipython",
    "version": 3
   },
   "file_extension": ".py",
   "mimetype": "text/x-python",
   "name": "python",
   "nbconvert_exporter": "python",
   "pygments_lexer": "ipython3",
   "version": "3.6.1"
  }
 },
 "nbformat": 4,
 "nbformat_minor": 2
}
